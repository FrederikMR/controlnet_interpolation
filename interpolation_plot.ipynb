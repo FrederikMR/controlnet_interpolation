{
 "cells": [
  {
   "cell_type": "markdown",
   "id": "9fef7990-6cca-4ad5-9835-426064cd9579",
   "metadata": {},
   "source": [
    "# Plotting Interpolation for ControlNet"
   ]
  },
  {
   "cell_type": "code",
   "execution_count": 1,
   "id": "d6711539-5361-4673-8fd8-01754384dea3",
   "metadata": {},
   "outputs": [],
   "source": [
    "# Modules\n",
    "import torch\n",
    "\n",
    "import os\n",
    "\n",
    "from PIL import Image"
   ]
  },
  {
   "cell_type": "code",
   "execution_count": 2,
   "id": "489dd091-c9d9-49dd-bf7e-6d0456dca26b",
   "metadata": {},
   "outputs": [],
   "source": [
    "image_type = \"cat\"\n",
    "image_path = \"sample_results\"\n",
    "methods = [\"ProbGEORCE_D\", \"ProbGEORCE_N\", \"linear\", \"slerp\", \"noisediffusion\", \"noise\"]"
   ]
  },
  {
   "cell_type": "markdown",
   "id": "99923316-3bc2-498d-b814-9c674eb5bf0e",
   "metadata": {},
   "source": [
    "## Loading Images"
   ]
  },
  {
   "cell_type": "code",
   "execution_count": 3,
   "id": "1a514b13-5193-4cee-84a2-3079fca65421",
   "metadata": {},
   "outputs": [],
   "source": [
    "img1 = Image.open(f'sample_imgs/{image_type}1.png').resize((768, 768))\n",
    "img2 = Image.open(f'sample_imgs/{image_type}2.png').resize((768, 768))"
   ]
  },
  {
   "cell_type": "code",
   "execution_count": null,
   "id": "16741aa5-f939-4f17-8837-8a4c4b2bde3b",
   "metadata": {},
   "outputs": [],
   "source": []
  },
  {
   "cell_type": "code",
   "execution_count": 4,
   "id": "198b4507-9766-4fbf-a014-33a46b12e8b2",
   "metadata": {},
   "outputs": [],
   "source": [
    "save_path = ''.join((image_path, f'/{image_type}', '/'))    \n",
    "onlyfiles = [f for f in os.listdir(save_path) if os.path.isfile(os.path.join(save_path, f))]"
   ]
  },
  {
   "cell_type": "code",
   "execution_count": 5,
   "id": "7603d987-35c2-40dc-a8cc-54d6f8792d8c",
   "metadata": {},
   "outputs": [
    {
     "data": {
      "text/plain": [
       "['000.png', 'args.yaml', '002.png']"
      ]
     },
     "execution_count": 5,
     "metadata": {},
     "output_type": "execute_result"
    }
   ],
   "source": [
    "onlyfiles"
   ]
  },
  {
   "cell_type": "code",
   "execution_count": null,
   "id": "81c36e9d-5068-4f5d-9340-134273f5c75e",
   "metadata": {},
   "outputs": [],
   "source": []
  }
 ],
 "metadata": {
  "kernelspec": {
   "display_name": "Python 3 (ipykernel)",
   "language": "python",
   "name": "python3"
  },
  "language_info": {
   "codemirror_mode": {
    "name": "ipython",
    "version": 3
   },
   "file_extension": ".py",
   "mimetype": "text/x-python",
   "name": "python",
   "nbconvert_exporter": "python",
   "pygments_lexer": "ipython3",
   "version": "3.12.7"
  }
 },
 "nbformat": 4,
 "nbformat_minor": 5
}
